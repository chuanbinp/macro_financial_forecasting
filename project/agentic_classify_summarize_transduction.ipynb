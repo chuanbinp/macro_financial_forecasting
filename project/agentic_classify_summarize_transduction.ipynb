{
  "nbformat": 4,
  "nbformat_minor": 0,
  "metadata": {
    "colab": {
      "provenance": []
    },
    "kernelspec": {
      "name": "python3",
      "display_name": "Python 3"
    },
    "language_info": {
      "name": "python"
    },
    "widgets": {
      "application/vnd.jupyter.widget-state+json": {
        "b90a227fa258458e848c5d16d83987d4": {
          "model_module": "@jupyter-widgets/output",
          "model_name": "OutputModel",
          "model_module_version": "1.0.0",
          "state": {
            "_dom_classes": [],
            "_model_module": "@jupyter-widgets/output",
            "_model_module_version": "1.0.0",
            "_model_name": "OutputModel",
            "_view_count": null,
            "_view_module": "@jupyter-widgets/output",
            "_view_module_version": "1.0.0",
            "_view_name": "OutputView",
            "layout": "IPY_MODEL_f0cf76a1d0d24a4a90dc54f9e62915aa",
            "msg_id": "",
            "outputs": [
              {
                "output_type": "display_data",
                "data": {
                  "text/plain": "\u001b[32m⠋\u001b[0m \u001b[33m0:00:01\u001b[0m \u001b[1mTransducing NewsEntry << NewsEntry\u001b[0m \u001b[38;2;249;38;114m━━━━━━━━━━━━━━━━━━━━━━━━━━━━━━━━\u001b[0m\u001b[38;5;237m╺\u001b[0m\u001b[38;5;237m━━━━━━━\u001b[0m \u001b[32m4/5\u001b[0m \u001b[31m13.834 states/s\u001b[0m \u001b[36m0:00:01\u001b[0m\n",
                  "text/html": "<pre style=\"white-space:pre;overflow-x:auto;line-height:normal;font-family:Menlo,'DejaVu Sans Mono',consolas,'Courier New',monospace\"><span style=\"color: #008000; text-decoration-color: #008000\">⠋</span> <span style=\"color: #808000; text-decoration-color: #808000\">0:00:01</span> <span style=\"font-weight: bold\">Transducing NewsEntry &lt;&lt; NewsEntry</span> <span style=\"color: #f92672; text-decoration-color: #f92672\">━━━━━━━━━━━━━━━━━━━━━━━━━━━━━━━━</span><span style=\"color: #3a3a3a; text-decoration-color: #3a3a3a\">╺━━━━━━━</span> <span style=\"color: #008000; text-decoration-color: #008000\">4/5</span> <span style=\"color: #800000; text-decoration-color: #800000\">13.834 states/s</span> <span style=\"color: #008080; text-decoration-color: #008080\">0:00:01</span>\n</pre>\n"
                },
                "metadata": {}
              }
            ],
            "tabbable": null,
            "tooltip": null
          }
        },
        "f0cf76a1d0d24a4a90dc54f9e62915aa": {
          "model_module": "@jupyter-widgets/base",
          "model_name": "LayoutModel",
          "model_module_version": "2.0.0",
          "state": {
            "_model_module": "@jupyter-widgets/base",
            "_model_module_version": "2.0.0",
            "_model_name": "LayoutModel",
            "_view_count": null,
            "_view_module": "@jupyter-widgets/base",
            "_view_module_version": "2.0.0",
            "_view_name": "LayoutView",
            "align_content": null,
            "align_items": null,
            "align_self": null,
            "border_bottom": null,
            "border_left": null,
            "border_right": null,
            "border_top": null,
            "bottom": null,
            "display": null,
            "flex": null,
            "flex_flow": null,
            "grid_area": null,
            "grid_auto_columns": null,
            "grid_auto_flow": null,
            "grid_auto_rows": null,
            "grid_column": null,
            "grid_gap": null,
            "grid_row": null,
            "grid_template_areas": null,
            "grid_template_columns": null,
            "grid_template_rows": null,
            "height": null,
            "justify_content": null,
            "justify_items": null,
            "left": null,
            "margin": null,
            "max_height": null,
            "max_width": null,
            "min_height": null,
            "min_width": null,
            "object_fit": null,
            "object_position": null,
            "order": null,
            "overflow": null,
            "padding": null,
            "right": null,
            "top": null,
            "visibility": null,
            "width": null
          }
        }
      }
    }
  },
  "cells": [
    {
      "cell_type": "markdown",
      "source": [
        "# Setup"
      ],
      "metadata": {
        "id": "sHpE87m_viFk"
      }
    },
    {
      "cell_type": "code",
      "source": [
        "! uv pip install agentics-py"
      ],
      "metadata": {
        "colab": {
          "base_uri": "https://localhost:8080/"
        },
        "id": "-S0LLk8mvlvt",
        "outputId": "5eb80a83-8894-4357-c7e3-255514927fc6"
      },
      "execution_count": 1,
      "outputs": [
        {
          "output_type": "stream",
          "name": "stdout",
          "text": [
            "\u001b[2mUsing Python 3.12.12 environment at: /usr\u001b[0m\n",
            "\u001b[2mAudited \u001b[1m1 package\u001b[0m \u001b[2min 535ms\u001b[0m\u001b[0m\n"
          ]
        }
      ]
    },
    {
      "cell_type": "code",
      "execution_count": 2,
      "metadata": {
        "colab": {
          "base_uri": "https://localhost:8080/"
        },
        "id": "50sNSrFdvT_q",
        "outputId": "d4908667-ca0d-4cd0-9368-ade16d3f8532"
      },
      "outputs": [
        {
          "output_type": "stream",
          "name": "stdout",
          "text": [
            "In Colab: True\n",
            "Drive already mounted at /content/drive; to attempt to forcibly remount, call drive.mount(\"/content/drive\", force_remount=True).\n"
          ]
        }
      ],
      "source": [
        "import os\n",
        "from pathlib import Path\n",
        "import sys\n",
        "from getpass import getpass\n",
        "\n",
        "from dotenv import find_dotenv, load_dotenv\n",
        "\n",
        "CURRENT_PATH = \"\"\n",
        "\n",
        "IN_COLAB = \"google.colab\" in sys.modules\n",
        "print(\"In Colab:\", IN_COLAB)\n",
        "\n",
        "if IN_COLAB:\n",
        "    CURRENT_PATH = \"/content/drive/MyDrive/\"\n",
        "    # Mount your google drive\n",
        "    from google.colab import drive\n",
        "\n",
        "    drive.mount(\"/content/drive\")\n",
        "    from google.colab import userdata\n",
        "\n",
        "    os.environ[\"GEMINI_API_KEY\"] = userdata.get(\"GOOGLE_API_KEY\")\n",
        "else:\n",
        "    load_dotenv(find_dotenv())\n",
        "\n",
        "if not os.getenv(\"GEMINI_API_KEY\"):\n",
        "    os.environ[\"GEMINI_API_KEY\"] = getpass(\"Enter your GEMINI_API_KEY:\")\n",
        "\n",
        "base = Path(CURRENT_PATH)"
      ]
    },
    {
      "cell_type": "markdown",
      "source": [
        "#Setup Custom LLM"
      ],
      "metadata": {
        "id": "iF7uiiFzwGrf"
      }
    },
    {
      "cell_type": "code",
      "source": [
        "from crewai import LLM\n",
        "\n",
        "# pick a provider (openai, anthropic, groq, etc.) - see crewai docs for details\n",
        "gemini_llm = LLM(\n",
        "    model=\"gemini/gemini-2.0-flash-lite\",\n",
        "    temperature=0.7,  # Adjust based on task\n",
        "    max_tokens=4096,  # Set based on output needs\n",
        "    # timeout=300,\n",
        ")  # Longer timeout for complex tasks\n",
        "\n",
        "print(gemini_llm)"
      ],
      "metadata": {
        "id": "BpozobRXvvE6",
        "colab": {
          "base_uri": "https://localhost:8080/"
        },
        "outputId": "cd53ca5f-ce44-4e72-ea67-b0f1c555afad"
      },
      "execution_count": 10,
      "outputs": [
        {
          "output_type": "stream",
          "name": "stdout",
          "text": [
            "<crewai.llm.LLM object at 0x7e773def88c0>\n"
          ]
        }
      ]
    },
    {
      "cell_type": "code",
      "source": [
        "# test call\n",
        "print(gemini_llm.call(\"where is the Eiffel Tower?\"))"
      ],
      "metadata": {
        "id": "8_4UqD3ywKQ7",
        "colab": {
          "base_uri": "https://localhost:8080/"
        },
        "outputId": "fac58863-f6f0-49ef-c692-5ce69cfbc0ca"
      },
      "execution_count": 11,
      "outputs": [
        {
          "output_type": "stream",
          "name": "stdout",
          "text": [
            "The Eiffel Tower is located in **Paris, France**.\n",
            "\n"
          ]
        }
      ]
    },
    {
      "cell_type": "markdown",
      "source": [
        "# Download HF Dataset"
      ],
      "metadata": {
        "id": "8pfWGQnSHKds"
      }
    },
    {
      "cell_type": "code",
      "source": [
        "from datasets import load_dataset, DatasetDict\n",
        "import warnings\n",
        "warnings.filterwarnings(\"ignore\")\n",
        "\n",
        "DATASET_NAME = \"NickyNicky/finance-financialmodelingprep-stock-news-sentiments-rss-feed\"\n",
        "SPLIT_NAME = \"train\""
      ],
      "metadata": {
        "id": "LZadi0yvHJHu"
      },
      "execution_count": 12,
      "outputs": []
    },
    {
      "cell_type": "code",
      "source": [
        "def download_dataset(dataset_name: str, split_name: str) -> DatasetDict:\n",
        "  try:\n",
        "    # The load_dataset function downloads the dataset to your local cache\n",
        "    # and loads it into memory as a Dataset object.\n",
        "    dataset = load_dataset(dataset_name, split=split_name)\n",
        "\n",
        "    print(\"\\n--- Download Successful! ---\")\n",
        "    print(f\"Loaded dataset type: {type(dataset)}\")\n",
        "\n",
        "    # Print basic information\n",
        "    print(f\"\\nTotal number of rows in the '{split_name}' split: {len(dataset)}\")\n",
        "    print(\"\\nFeatures (columns) in the dataset:\")\n",
        "    print(dataset.column_names)\n",
        "    return dataset\n",
        "  except FileNotFoundError:\n",
        "      print(f\"Error: Dataset or split '{dataset_name}/{split_name}' not found on the Hub.\")\n",
        "      print(\"Please check the dataset name and split name for typos.\")\n",
        "  except Exception as e:\n",
        "      print(f\"An unexpected error occurred during dataset loading: {e}\")\n",
        "\n",
        "ds = download_dataset(DATASET_NAME, SPLIT_NAME)"
      ],
      "metadata": {
        "colab": {
          "base_uri": "https://localhost:8080/"
        },
        "id": "jb8yoiXMHWs7",
        "outputId": "22d84da2-f66b-40c3-9919-8ab3f5c187a1"
      },
      "execution_count": 13,
      "outputs": [
        {
          "output_type": "stream",
          "name": "stdout",
          "text": [
            "\n",
            "--- Download Successful! ---\n",
            "Loaded dataset type: <class 'datasets.arrow_dataset.Dataset'>\n",
            "\n",
            "Total number of rows in the 'train' split: 142000\n",
            "\n",
            "Features (columns) in the dataset:\n",
            "['symbol', 'publishedDate', 'title', 'image', 'site', 'text', 'url', 'sentiment', 'sentimentScore']\n"
          ]
        }
      ]
    },
    {
      "cell_type": "code",
      "source": [
        "ds[101010]"
      ],
      "metadata": {
        "colab": {
          "base_uri": "https://localhost:8080/"
        },
        "id": "2eESJnfnHWed",
        "outputId": "08938511-1af6-461f-b699-15d508dbbc98"
      },
      "execution_count": 14,
      "outputs": [
        {
          "output_type": "execute_result",
          "data": {
            "text/plain": [
              "{'symbol': 'BTC-USD',\n",
              " 'publishedDate': '2022-11-29T18:40:15.000Z',\n",
              " 'title': '$16K Bitcoin dropping to $12K–$14K — Can this really happen? Watch The Market Report',\n",
              " 'image': 'https://i-invdn-com.investing.com/news/LYNXNPEE1P15Z_L.jpg',\n",
              " 'site': 'investing',\n",
              " 'text': '$16K Bitcoin dropping to $12K–$14K — Can this really happen? Watch The Market Report     \\xa0      BTC/USD +1.77%      Add to/Remove from Watchlist          Add to Watchlist   Add Position     Position added successfully to:            Please name your holdings portfolio     Type:  BUY SELL    Date:           \\xa0    Amount:    Price    Point Value:       Leverage:  1:1 1:10 1:25 1:50 1:100 1:200 1:400 1:500 1:1000    Commission:          \\xa0  Create New Watchlist Create    Create a new holdings portfol',\n",
              " 'url': 'https://www.investing.com/news/cryptocurrency-news/16k-bitcoin-dropping-to-12k14k--can-this-really-happen-watch-the-market-report-2953888',\n",
              " 'sentiment': 'Positive',\n",
              " 'sentimentScore': 0.9231}"
            ]
          },
          "metadata": {},
          "execution_count": 14
        }
      ]
    },
    {
      "cell_type": "markdown",
      "source": [
        "# Setup Custom Tools\n",
        "Todo: Used to get news for inference, not for training."
      ],
      "metadata": {
        "id": "1clbRyIBwL2T"
      }
    },
    {
      "cell_type": "code",
      "source": [
        "# from crewai.tools import tool\n",
        "# from ddgs import DDGS\n",
        "\n",
        "\n",
        "# ## Define a Crew AI tool to get news for a given date using the DDGS search engine\n",
        "# @tool(\"web_search\")\n",
        "# def web_search(query: str) -> str:\n",
        "#     \"\"\"Fetch web search results for the given query using DDGS.\"\"\"\n",
        "#     return str(DDGS().text(query, max_results=10))\n",
        "\n",
        "\n",
        "# questions_answering_ag.verbose_agent = True\n",
        "# questions_answering_ag.tools = [web_search]\n",
        "# dow_jones_data.filter_states(end=1)\n",
        "# answers = await (questions_answering_ag << dow_jones_data)\n",
        "# print(answers.pretty_print())"
      ],
      "metadata": {
        "id": "jQBwjKIEwLYT"
      },
      "execution_count": 15,
      "outputs": []
    },
    {
      "cell_type": "markdown",
      "source": [
        "# Transduction between AGs\n",
        "source and target AGs   \n",
        "News -> Classify News + Key points\n",
        "\n",
        "**Customizing Transduction**   \n",
        "You can fine-tune how logical transduction works by configuring:\n",
        "\n",
        "LLMs – choose the underlying language model to run the transduction.   \n",
        "Instructions – add task-specific guidance for the LLM.   \n",
        "Prompt Templates – control how inputs are rendered into prompts.   \n",
        "Few-Shot Examples – provide examples to steer the model’s behavior.   \n",
        "Verbose Options – enable detailed logging and debug outputs.\n",
        "\n"
      ],
      "metadata": {
        "id": "4tDDljd1wihd"
      }
    },
    {
      "cell_type": "code",
      "source": [
        "from typing import Optional, Literal, List, Dict, Any\n",
        "from pydantic import BaseModel, Field, HttpUrl, ValidationError\n",
        "from datasets import load_dataset, DatasetDict\n",
        "from pydantic import BaseModel\n",
        "from agentics import AG\n",
        "import asyncio"
      ],
      "metadata": {
        "id": "0THtGYfgK4S0"
      },
      "execution_count": 16,
      "outputs": []
    },
    {
      "cell_type": "code",
      "source": [
        "INDUSTRIES = [\n",
        "    \"Information Technology\",\n",
        "    \"Health Care\",\n",
        "    \"Financials\",\n",
        "    \"Consumer Discretionary\",\n",
        "    \"Communication Services\",\n",
        "    \"Industrials\",\n",
        "    \"Consumer Staples\",\n",
        "    \"Energy\",\n",
        "    \"Utilities\",\n",
        "    \"Real Estate\",\n",
        "    \"Materials\",\n",
        "    \"General Market\"\n",
        "]\n",
        "\n",
        "IndustryType = Literal[tuple(INDUSTRIES)]\n",
        "\n",
        "class NewsEntry(BaseModel):\n",
        "    \"\"\"\n",
        "    Pydantic model representing a single comprehensive news entry, including\n",
        "    sentiment analysis and source metadata.\n",
        "    \"\"\"\n",
        "    # url: HttpUrl = Field(description=\"The full URL link to the original news article.\")\n",
        "    # image: Optional[FlexibleImageUrl] = Field(description=\"Optional URL link to the main image or a relative path.\")\n",
        "    publishedDate: str = Field(description=\"The publication date of the article (ISO 8601 string).\")\n",
        "    symbol: str = Field(description=\"The stock ticker symbol the news is related to (e.g., 'AAPL', 'OCEA').\")\n",
        "    site: str = Field(description=\"The source website or platform where the news was published.\")\n",
        "    text: str = Field(description=\"A short snippet or summary of the news article content.\")\n",
        "    title: str = Field(description=\"The headline or title of the news article.\")\n",
        "    sentiment: Optional[str] = Field(description=\"The calculated sentiment label, usually one of 'positive', 'negative', or 'neutral'.\")\n",
        "    sentimentScore: Optional[float] = Field(description=\"The numeric sentiment score calculated by the source.\")\n",
        "    # New additions\n",
        "    industry: IndustryType = Field(None, description=f\"The primary industry sector this news is relevant to. Must be one of: {INDUSTRIES}.\")\n",
        "    keyPoints: str = Field(None, description=\"A bullet list summarizing the 5 most important points of the news article.\")"
      ],
      "metadata": {
        "id": "XnGIvrUFKN_O"
      },
      "execution_count": 38,
      "outputs": []
    },
    {
      "cell_type": "code",
      "source": [
        "news_entry_instance = NewsEntry.model_validate(ds[101010])\n",
        "print(news_entry_instance)"
      ],
      "metadata": {
        "colab": {
          "base_uri": "https://localhost:8080/"
        },
        "id": "KfS-bk1tQdUh",
        "outputId": "eb387af3-e083-493e-ac4b-8834fa459530"
      },
      "execution_count": 39,
      "outputs": [
        {
          "output_type": "stream",
          "name": "stdout",
          "text": [
            "publishedDate='2022-11-29T18:40:15.000Z' symbol='BTC-USD' site='investing' text='$16K Bitcoin dropping to $12K–$14K — Can this really happen? Watch The Market Report     \\xa0      BTC/USD +1.77%      Add to/Remove from Watchlist          Add to Watchlist   Add Position     Position added successfully to:            Please name your holdings portfolio     Type:  BUY SELL    Date:           \\xa0    Amount:    Price    Point Value:       Leverage:  1:1 1:10 1:25 1:50 1:100 1:200 1:400 1:500 1:1000    Commission:          \\xa0  Create New Watchlist Create    Create a new holdings portfol' title='$16K Bitcoin dropping to $12K–$14K — Can this really happen? Watch The Market Report' sentiment='Positive' sentimentScore=0.9231 industry=None keyPoints=None\n"
          ]
        }
      ]
    },
    {
      "cell_type": "code",
      "source": [
        "from typing import Optional, Literal, List, Dict, Any, Tuple\n",
        "from pydantic import BaseModel, Field, HttpUrl, ValidationError\n",
        "from datasets import load_dataset, DatasetDict\n",
        "from pydantic import BaseModel\n",
        "from agentics import AG\n",
        "import asyncio\n",
        "\n",
        "async def process_hf_dataset(hf_dataset: List[Dict[str, Any]]) -> List[NewsEntry]:\n",
        "  \"\"\"\n",
        "  Processes a list of data (simulating a Hugging Face dataset split)\n",
        "  to validate each entry against the NewsEntry Pydantic model.\n",
        "  \"\"\"\n",
        "  print(f\"\\n--- Starting processing of {len(hf_dataset)} entries ---\")\n",
        "\n",
        "  # Validate each record synchronously\n",
        "  results = [NewsEntry.model_validate(record) for record in hf_dataset]\n",
        "  print(\"--- Processing Complete! ---\")\n",
        "  return results"
      ],
      "metadata": {
        "id": "U4jOFcSGQzCf"
      },
      "execution_count": 40,
      "outputs": []
    },
    {
      "cell_type": "code",
      "source": [
        "news_entry = await process_hf_dataset(ds.select(range(5))) # to remove, testing on 5 now"
      ],
      "metadata": {
        "colab": {
          "base_uri": "https://localhost:8080/"
        },
        "id": "ZbwMXQBOTGxv",
        "outputId": "12fc016f-cccd-4193-ced4-69f53982794a"
      },
      "execution_count": 41,
      "outputs": [
        {
          "output_type": "stream",
          "name": "stdout",
          "text": [
            "\n",
            "--- Starting processing of 5 entries ---\n",
            "--- Processing Complete! ---\n"
          ]
        }
      ]
    },
    {
      "cell_type": "code",
      "source": [
        "# news_entry"
      ],
      "metadata": {
        "id": "ZBxcRlyYkr6O"
      },
      "execution_count": 42,
      "outputs": []
    },
    {
      "cell_type": "code",
      "source": [
        "prompts = {\n",
        "    \"industry_class_and_keypoints\": f\"\"\"Classify the primary industry sector this news is relevant to as \\\"industry\\\". Must be one of: {INDUSTRIES}.\n",
        "    Next, summarize the 5 most important points of the news article in bullet point as \\\"keyPoints\\\".\"\"\"\n",
        "}"
      ],
      "metadata": {
        "id": "0vpvtDOblWeP"
      },
      "execution_count": 43,
      "outputs": []
    },
    {
      "cell_type": "code",
      "source": [
        "# Create source and target AGs\n",
        "ag_news_entry = AG(atype=NewsEntry, states=news_entry)\n",
        "# ag_news_kp = AG(atype=NewsKeyPoints, llm=gemini_llm)\n",
        "\n",
        "# ag_news_entry.instructions = prompts[\"industry_class_and_keypoints\"]\n",
        "ag_news_entry.llm = (gemini_llm)\n",
        "ag_news_entry = await ag_news_entry.self_transduction(\n",
        "    source_fields=list(NewsEntry.model_fields.keys()),\n",
        "    target_fields=[\"industry\", \"keyPoints\"],\n",
        "    instructions= prompts[\"industry_class_and_keypoints\"]\n",
        ")"
      ],
      "metadata": {
        "id": "9OHeSRXQwi5_",
        "colab": {
          "base_uri": "https://localhost:8080/",
          "height": 35,
          "referenced_widgets": [
            "b90a227fa258458e848c5d16d83987d4",
            "f0cf76a1d0d24a4a90dc54f9e62915aa"
          ]
        },
        "outputId": "53154434-3e06-4707-e08f-4ad3f8930996"
      },
      "execution_count": 44,
      "outputs": [
        {
          "output_type": "display_data",
          "data": {
            "text/plain": [
              "Output()"
            ],
            "application/vnd.jupyter.widget-view+json": {
              "version_major": 2,
              "version_minor": 0,
              "model_id": "b90a227fa258458e848c5d16d83987d4"
            }
          },
          "metadata": {}
        },
        {
          "output_type": "display_data",
          "data": {
            "text/plain": [],
            "text/html": [
              "<pre style=\"white-space:pre;overflow-x:auto;line-height:normal;font-family:Menlo,'DejaVu Sans Mono',consolas,'Courier New',monospace\"></pre>\n"
            ]
          },
          "metadata": {}
        }
      ]
    },
    {
      "cell_type": "code",
      "source": [
        "ag_news_entry.pretty_print()"
      ],
      "metadata": {
        "colab": {
          "base_uri": "https://localhost:8080/",
          "height": 1000
        },
        "id": "LgA7kfh_PQsT",
        "outputId": "65d062c5-395b-4779-fbb1-b41621f5a226"
      },
      "execution_count": 47,
      "outputs": [
        {
          "output_type": "stream",
          "name": "stdout",
          "text": [
            "aType : <class '__main__.NewsEntry'>\n",
            "publishedDate: '2023-10-04T21:54:28.000Z'\n",
            "symbol: HE\n",
            "site: benzinga\n",
            "text: RADNOR, Pa., Oct. 04, 2023 (GLOBE NEWSWIRE) -- The law firm of Kessler Topaz\n",
            "  Meltzer & Check, LLP (www.ktmc.com) informs investors that a securities class action\n",
            "  lawsuit has been filed in the United States District Court for the Northern District\n",
            "  of California against Hawaiian Electric Industries, Inc. (\"Hawaiian Electric\") (NYSE:HE).\n",
            "  The action charges Hawaiian Electric with violations of the federal securities laws,\n",
            "  including omissions and fraudulent misrepresentations relating to the compa...\n",
            "title: 'HE REMINDER: Kessler Topaz Meltzer & Check, LLP Reminds Hawaiian Electric\n",
            "  Industries, Inc. (HE) Shareholders of Securities Fraud Class Action Lawsuit and\n",
            "  Encourages Investors with Substantial Losses to Contact the Firm'\n",
            "sentiment: Negative\n",
            "sentimentScore: -0.6417\n",
            "industry: Utilities\n",
            "keyPoints: '- A securities class action lawsuit has been filed against Hawaiian Electric\n",
            "  Industries, Inc. (HE).\n",
            "\n",
            "  - The lawsuit alleges violations of federal securities laws.\n",
            "\n",
            "  - The charges include omissions and fraudulent misrepresentations.\n",
            "\n",
            "  - The lawsuit was filed in the United States District Court for the Northern District\n",
            "  of California.\n",
            "\n",
            "  - Investors with substantial losses are encouraged to contact the law firm Kessler\n",
            "  Topaz Meltzer & Check, LLP.'\n",
            "\n",
            "publishedDate: '2023-10-04T21:40:00.000Z'\n",
            "symbol: CRS\n",
            "site: globenewswire\n",
            "text: 'PHILADELPHIA, Oct. 04, 2023 (GLOBE NEWSWIRE) -- Carpenter Technology Corporation\n",
            "  (NYSE: CRS) plans to host a conference call and webcast on Thursday, October 26,\n",
            "  2023 at 10:00 a.m. ET to discuss the results of operations for the first quarter\n",
            "  of fiscal year 2024, ended September 30, 2023. The call and webcast will follow\n",
            "  the release of first quarter fiscal 2024 financial results before the market opens\n",
            "  on Thursday, October 26, 2023...'\n",
            "title: Carpenter Technology Announces Conference Call and Webcast\n",
            "sentiment: Positive\n",
            "sentimentScore: 0.4767\n",
            "industry: Industrials\n",
            "keyPoints: 'Carpenter Technology Corporation (NYSE: CRS) will host a conference call\n",
            "  and webcast.\n",
            "\n",
            "  The conference call and webcast will be on Thursday, October 26, 2023, at 10:00\n",
            "  a.m. ET.\n",
            "\n",
            "  The call will discuss the results of operations for the first quarter of fiscal\n",
            "  year 2024.\n",
            "\n",
            "  The first quarter of fiscal year 2024 ended September 30, 2023.\n",
            "\n",
            "  First quarter fiscal 2024 financial results will be released before the market opens\n",
            "  on Thursday, October 26, 2023.'\n",
            "\n",
            "publishedDate: '2023-10-04T21:34:09.000Z'\n",
            "symbol: BB\n",
            "site: benzinga\n",
            "text: 'BlackBerry Ltd (NYSE: BB) shares are trading higher in Wednesday''s after-hours\n",
            "  session after the company announced intent to separate its business units. What\n",
            "  Happened: As a result of the company''s previously announced strategic review to\n",
            "  drive shareholder value, BlackBerry''s board determined that separating its IoT\n",
            "  and Cybersecurity businesses is the best strategy for the company. BlackBerry plans\n",
            "  to pursue an IPO for its IoT business sometime in the ...Full story available on\n",
            "  Benzinga.com...'\n",
            "title: What's Going On With BlackBerry Stock After Hours?\n",
            "sentiment: Positive\n",
            "sentimentScore: 0.9895\n",
            "industry: Information Technology\n",
            "keyPoints: '- BlackBerry announced intent to separate its business units.\n",
            "\n",
            "  - The board determined that separating its IoT and Cybersecurity businesses is the\n",
            "  best strategy.\n",
            "\n",
            "  - BlackBerry plans to pursue an IPO for its IoT business.\n",
            "\n",
            "  - The news is about BlackBerry stock.\n",
            "\n",
            "  - The sentiment is positive.'\n",
            "\n",
            "publishedDate: '2023-10-04T21:17:00.000Z'\n",
            "symbol: TECK\n",
            "site: globenewswire\n",
            "text: \"VANCOUVER, British Columbia, Oct. 04, 2023 (GLOBE NEWSWIRE) -- Teck Resources\\\n",
            "  \\ Limited (TSX: TECK.A and TECK.B, NYSE: TECK) (\\u201CTeck\\u201D) will release its\\\n",
            "  \\ third quarter 2023 earnings results before market open on Tuesday, October 24,\\\n",
            "  \\ 2023...\"\n",
            "title: Teck to Release Third Quarter 2023 Results on October 24, 2023\n",
            "sentiment: Positive\n",
            "sentimentScore: 0.83\n",
            "industry: Materials\n",
            "keyPoints: Teck Resources Limited will release its third quarter 2023 earnings results\n",
            "  on October 24, 2023. This is the main piece of information in the article.\n",
            "\n",
            "publishedDate: '2023-10-04T21:13:38.000Z'\n",
            "symbol: AGF\n",
            "site: benzinga\n",
            "text: TORONTO, Oct. 04, 2023 (GLOBE NEWSWIRE) -- AGF Management Limited reported total\n",
            "  assets under management (AUM) and fee-earning assets1 of $41.0 billion as at September\n",
            "  30, 2023. AUM ($ billions) September 30, 2023 August 31, 2023 % ChangeMonth-Over-Month\n",
            "  September 30, 2022 % Change Year-Over-Year Total Mutual Fund (including retail pooled\n",
            "  funds) $23.5 $24.4 $21.7 Exchange-traded funds + Separately managed accounts $1.4\n",
            "  $1.3 $1.1 Segregated accounts and Sub-advisory + AGF Priva...\n",
            "title: AGF Reports September 2023 Assets Under Management and Fee-Earning Assets\n",
            "sentiment: Positive\n",
            "sentimentScore: 0.9768\n",
            "industry: Financials\n",
            "keyPoints: '- AGF Management Limited reported total assets under management (AUM)\n",
            "  of $41.0 billion as at September 30, 2023.\n",
            "\n",
            "  - Total Mutual Fund (including retail pooled funds) was $23.5 billion.\n",
            "\n",
            "  - Exchange-traded funds increased.\n",
            "\n",
            "  - Separately managed accounts increased.\n",
            "\n",
            "  - Segregated accounts and Sub-advisory increased.'\n",
            "\n",
            "\n"
          ]
        },
        {
          "output_type": "execute_result",
          "data": {
            "text/plain": [
              "'aType : <class \\'__main__.NewsEntry\\'>\\npublishedDate: \\'2023-10-04T21:54:28.000Z\\'\\nsymbol: HE\\nsite: benzinga\\ntext: RADNOR, Pa., Oct. 04, 2023 (GLOBE NEWSWIRE) -- The law firm of Kessler Topaz\\n  Meltzer & Check, LLP (www.ktmc.com) informs investors that a securities class action\\n  lawsuit has been filed in the United States District Court for the Northern District\\n  of California against Hawaiian Electric Industries, Inc. (\"Hawaiian Electric\") (NYSE:HE).\\n  The action charges Hawaiian Electric with violations of the federal securities laws,\\n  including omissions and fraudulent misrepresentations relating to the compa...\\ntitle: \\'HE REMINDER: Kessler Topaz Meltzer & Check, LLP Reminds Hawaiian Electric\\n  Industries, Inc. (HE) Shareholders of Securities Fraud Class Action Lawsuit and\\n  Encourages Investors with Substantial Losses to Contact the Firm\\'\\nsentiment: Negative\\nsentimentScore: -0.6417\\nindustry: Utilities\\nkeyPoints: \\'- A securities class action lawsuit has been filed against Hawaiian Electric\\n  Industries, Inc. (HE).\\n\\n  - The lawsuit alleges violations of federal securities laws.\\n\\n  - The charges include omissions and fraudulent misrepresentations.\\n\\n  - The lawsuit was filed in the United States District Court for the Northern District\\n  of California.\\n\\n  - Investors with substantial losses are encouraged to contact the law firm Kessler\\n  Topaz Meltzer & Check, LLP.\\'\\n\\npublishedDate: \\'2023-10-04T21:40:00.000Z\\'\\nsymbol: CRS\\nsite: globenewswire\\ntext: \\'PHILADELPHIA, Oct. 04, 2023 (GLOBE NEWSWIRE) -- Carpenter Technology Corporation\\n  (NYSE: CRS) plans to host a conference call and webcast on Thursday, October 26,\\n  2023 at 10:00 a.m. ET to discuss the results of operations for the first quarter\\n  of fiscal year 2024, ended September 30, 2023. The call and webcast will follow\\n  the release of first quarter fiscal 2024 financial results before the market opens\\n  on Thursday, October 26, 2023...\\'\\ntitle: Carpenter Technology Announces Conference Call and Webcast\\nsentiment: Positive\\nsentimentScore: 0.4767\\nindustry: Industrials\\nkeyPoints: \\'Carpenter Technology Corporation (NYSE: CRS) will host a conference call\\n  and webcast.\\n\\n  The conference call and webcast will be on Thursday, October 26, 2023, at 10:00\\n  a.m. ET.\\n\\n  The call will discuss the results of operations for the first quarter of fiscal\\n  year 2024.\\n\\n  The first quarter of fiscal year 2024 ended September 30, 2023.\\n\\n  First quarter fiscal 2024 financial results will be released before the market opens\\n  on Thursday, October 26, 2023.\\'\\n\\npublishedDate: \\'2023-10-04T21:34:09.000Z\\'\\nsymbol: BB\\nsite: benzinga\\ntext: \\'BlackBerry Ltd (NYSE: BB) shares are trading higher in Wednesday\\'\\'s after-hours\\n  session after the company announced intent to separate its business units. What\\n  Happened: As a result of the company\\'\\'s previously announced strategic review to\\n  drive shareholder value, BlackBerry\\'\\'s board determined that separating its IoT\\n  and Cybersecurity businesses is the best strategy for the company. BlackBerry plans\\n  to pursue an IPO for its IoT business sometime in the ...Full story available on\\n  Benzinga.com...\\'\\ntitle: What\\'s Going On With BlackBerry Stock After Hours?\\nsentiment: Positive\\nsentimentScore: 0.9895\\nindustry: Information Technology\\nkeyPoints: \\'- BlackBerry announced intent to separate its business units.\\n\\n  - The board determined that separating its IoT and Cybersecurity businesses is the\\n  best strategy.\\n\\n  - BlackBerry plans to pursue an IPO for its IoT business.\\n\\n  - The news is about BlackBerry stock.\\n\\n  - The sentiment is positive.\\'\\n\\npublishedDate: \\'2023-10-04T21:17:00.000Z\\'\\nsymbol: TECK\\nsite: globenewswire\\ntext: \"VANCOUVER, British Columbia, Oct. 04, 2023 (GLOBE NEWSWIRE) -- Teck Resources\\\\\\n  \\\\ Limited (TSX: TECK.A and TECK.B, NYSE: TECK) (\\\\u201CTeck\\\\u201D) will release its\\\\\\n  \\\\ third quarter 2023 earnings results before market open on Tuesday, October 24,\\\\\\n  \\\\ 2023...\"\\ntitle: Teck to Release Third Quarter 2023 Results on October 24, 2023\\nsentiment: Positive\\nsentimentScore: 0.83\\nindustry: Materials\\nkeyPoints: Teck Resources Limited will release its third quarter 2023 earnings results\\n  on October 24, 2023. This is the main piece of information in the article.\\n\\npublishedDate: \\'2023-10-04T21:13:38.000Z\\'\\nsymbol: AGF\\nsite: benzinga\\ntext: TORONTO, Oct. 04, 2023 (GLOBE NEWSWIRE) -- AGF Management Limited reported total\\n  assets under management (AUM) and fee-earning assets1 of $41.0 billion as at September\\n  30, 2023. AUM ($ billions) September 30, 2023 August 31, 2023 % ChangeMonth-Over-Month\\n  September 30, 2022 % Change Year-Over-Year Total Mutual Fund (including retail pooled\\n  funds) $23.5 $24.4 $21.7 Exchange-traded funds + Separately managed accounts $1.4\\n  $1.3 $1.1 Segregated accounts and Sub-advisory + AGF Priva...\\ntitle: AGF Reports September 2023 Assets Under Management and Fee-Earning Assets\\nsentiment: Positive\\nsentimentScore: 0.9768\\nindustry: Financials\\nkeyPoints: \\'- AGF Management Limited reported total assets under management (AUM)\\n  of $41.0 billion as at September 30, 2023.\\n\\n  - Total Mutual Fund (including retail pooled funds) was $23.5 billion.\\n\\n  - Exchange-traded funds increased.\\n\\n  - Separately managed accounts increased.\\n\\n  - Segregated accounts and Sub-advisory increased.\\'\\n\\n'"
            ],
            "application/vnd.google.colaboratory.intrinsic+json": {
              "type": "string"
            }
          },
          "metadata": {},
          "execution_count": 47
        }
      ]
    },
    {
      "cell_type": "code",
      "source": [],
      "metadata": {
        "id": "i3WBmmYwsazR"
      },
      "execution_count": null,
      "outputs": []
    }
  ]
}